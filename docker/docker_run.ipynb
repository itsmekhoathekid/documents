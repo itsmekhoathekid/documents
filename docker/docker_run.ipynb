{
 "cells": [
  {
   "cell_type": "markdown",
   "id": "1124ed6b",
   "metadata": {},
   "source": [
    "## Docker run\n",
    "\n",
    "- docker run redis (run a container running a redis service)\n",
    "\n",
    "- docker run redis:4.0 \n",
    "\n",
    "- docker run -i kodekloud/simple-prompt-docker : alone keeps stdin open but doesn't provide an interactive terminal.\n",
    "\n",
    "- docker run -it kodekloud/simple-prompt-docker :  (combining -i and -t) allocates a terminal, allowing interactive command execution and providing a user-friendly shell-like interface.\n",
    "\n",
    "- docker run -p 80:5000 kodekloud/simple-webapp : if i want the user to access my app through port 80, on the docker host, i could map port 80 of local host to port 5000.\n",
    "\n",
    "\n",
    "- docker run -p 3306:3306 mysql\n",
    "\n",
    "Volume mapping\n",
    "\n",
    "docker run mysql\n",
    "docker stop mysql\n",
    "docker rm mysql\n",
    "\n",
    "- docker run -v /opt/datadir/:var/lib/mysql mysql: a, mounting this volume ensures that your database data is persisted on the host system rather than inside the container's filesystem. This is useful for keeping your data safe across container restarts or removals.\n",
    "\n",
    "Inspect Container\n",
    "\n",
    "- docker inspect 'name or id (get it from docker ps)'\n",
    "\n",
    "- docker logs 'name or id'\n",
    "\n"
   ]
  },
  {
   "cell_type": "markdown",
   "id": "3d957f92",
   "metadata": {},
   "source": [
    "## Environment Variables\n",
    "\n"
   ]
  }
 ],
 "metadata": {
  "language_info": {
   "name": "python"
  }
 },
 "nbformat": 4,
 "nbformat_minor": 5
}
