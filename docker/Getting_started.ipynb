{
 "cells": [
  {
   "cell_type": "markdown",
   "id": "9d2908b3",
   "metadata": {},
   "source": [
    "# Docker\n",
    "\n",
    "##  What can it do?\n",
    "\n",
    "- Containerize applications\n",
    "- run each service its own dependencises in seperate containers\n",
    "\n",
    "## What are containers?\n",
    "\n",
    "- completely isolated environments\n",
    "- they have their own processes, services, network interfaces\n",
    "- all share the same OS kernel\n",
    "\n",
    "## Operating system\n",
    "\n",
    "- consist of two things : an OS kernel and a set of software.\n",
    "- OS kernel responsible for interacting with the underlying hardware\n",
    "\n",
    "## Containers vs VM (Virtual Machines)\n",
    "\n",
    "- Docker has less isolation as more resources are shared between the containers like kernel\n",
    "- VM has completely isolation, cus dont rely on he underlying OS or kernel, can run different type of apps built on\n",
    "different services such as linux based or window based app."
   ]
  },
  {
   "cell_type": "markdown",
   "id": "fde01acc",
   "metadata": {},
   "source": [
    "## How is it done?\n",
    "\n",
    "- Run command of a specific image found on Docker Hub.\n",
    "\n",
    "## Container vs Image\n",
    "\n",
    "- An image is a package or a template, use to create on or more containers\n",
    "- containers are running instances of images that are isolated and have their own env and set of processes\n",
    "- requirments -> docker file -> image -> can run everywhere\n"
   ]
  },
  {
   "cell_type": "markdown",
   "id": "34dc4730",
   "metadata": {},
   "source": [
    "## Docker images\n",
    "\n",
    "hub.docker.com\n",
    "\n",
    "sudo docker run docker/whalesay cowsay Hello-binbin!"
   ]
  }
 ],
 "metadata": {
  "language_info": {
   "name": "python"
  }
 },
 "nbformat": 4,
 "nbformat_minor": 5
}
