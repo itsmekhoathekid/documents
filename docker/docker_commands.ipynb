{
 "cells": [
  {
   "cell_type": "markdown",
   "id": "32dfff87",
   "metadata": {},
   "source": [
    "# Docker commands\n",
    "\n",
    "[Documentation](https://docs.docker.com/reference/cli/docker/)\n",
    "\n",
    "- docker ps : show running\n",
    "\n",
    "- docker ps -a : show all containers\n",
    "\n",
    "- docker stop 'names'\n",
    "\n",
    "- docker rm 'names'\n",
    "\n",
    "- docker images\n",
    "\n",
    "- docker rmi nginx (delete all dependents containers to be able to delete an image)\n",
    "\n",
    "- docker run nginx\n",
    "\n",
    "- docker pull nginx (only pull the image, not run)\n",
    "\n",
    "- docker run ubuntu\n",
    "\n",
    "- docker run ubuntu sleep 5\n",
    "\n",
    "- docker exec 'name' 'command'\n",
    "\n",
    "- docker run -d 'name' (detach mode)\n",
    "\n",
    "- docker attach a043d\n",
    "\n",
    "- docker run --name 'name' 'image' : ex docker run --name redis -d redis:alpine\n",
    "\n"
   ]
  },
  {
   "cell_type": "markdown",
   "id": "07da3d03",
   "metadata": {},
   "source": [
    "## Random fact\n",
    "\n",
    "Docker creates the containers\n",
    "\n",
    "Kubernetes manages and orchestrates them"
   ]
  }
 ],
 "metadata": {
  "language_info": {
   "name": "python"
  }
 },
 "nbformat": 4,
 "nbformat_minor": 5
}
