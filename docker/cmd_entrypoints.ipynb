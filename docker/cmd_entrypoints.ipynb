{
 "cells": [
  {
   "cell_type": "markdown",
   "id": "bacd7f87",
   "metadata": {},
   "source": [
    "\n",
    "\n",
    "```Dockerfile\n",
    "FROM ubuntu\n",
    "\n",
    "CMD sleep 5\n",
    "```\n",
    "and then run\n",
    "```text\n",
    "docker run ubuntu-sleeper"
   ]
  },
  {
   "cell_type": "markdown",
   "id": "93de618c",
   "metadata": {},
   "source": [
    "FROM Ubuntu\n",
    "\n",
    "ENTRYPOINT [\"sleep\"]\n",
    "\n",
    "docker run ubuntu-sleeper 10"
   ]
  },
  {
   "cell_type": "markdown",
   "id": "f31850ee",
   "metadata": {},
   "source": [
    "FROM Ubuntu\n",
    "\n",
    "ENTRYPOINT [\"sleep\"]\n",
    "\n",
    "CMD [\"5\"]\n",
    "\n",
    "docker run ubuntu-sleeper \n",
    "\n",
    "overwrite to sleep 10 seconds if\n",
    "\n",
    "docker run ubuntu-sleepr 10"
   ]
  },
  {
   "cell_type": "markdown",
   "id": "e254d426",
   "metadata": {},
   "source": [
    "docker run --entrypoint sleep2.0 ubuntu-sleeper 10"
   ]
  }
 ],
 "metadata": {
  "language_info": {
   "name": "python"
  }
 },
 "nbformat": 4,
 "nbformat_minor": 5
}
