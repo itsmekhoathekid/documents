{
 "cells": [
  {
   "cell_type": "markdown",
   "id": "43996a7a",
   "metadata": {},
   "source": [
    "Next, create a simple container called clickcounter with the image kodekloud/click-counter, link it to the redis container that we created in the previous task and then expose it on the host port 8085\n",
    "\n",
    "\n",
    "The clickcounter app run on port 5000.\n",
    "if you are unsure, check the hints section for the exact commands.\n",
    "\n",
    "break down : container called 'clickcounter' with image 'kodecloud/click-counter', link to the 'redis' container , expose it on port 8085\n",
    "\n",
    "clickcounter app run on port 5000\n",
    "\n"
   ]
  }
 ],
 "metadata": {
  "language_info": {
   "name": "python"
  }
 },
 "nbformat": 4,
 "nbformat_minor": 5
}
