{
 "cells": [
  {
   "cell_type": "markdown",
   "id": "66aedb62",
   "metadata": {},
   "source": [
    "## Docker file\n",
    "\n",
    "FROM Ubuntu\n",
    "\n",
    "RUN apt-get update\n",
    "RUN apt-get install python\n",
    "\n",
    "RUN pip install flask\n",
    "RUN pip install flask-mysql\n",
    "\n",
    "COPY . /opt/source-code\n",
    "\n",
    "ENTRYPOINT FLASK_APP=/opt/source-code/app.py flask run"
   ]
  },
  {
   "cell_type": "markdown",
   "id": "e8d216d7",
   "metadata": {},
   "source": [
    "## Build your image\n",
    "\n",
    "docker build Dockerfile -t itsmekhoa/my-custom-app\n",
    "\n",
    "## Docker hub registry\n",
    "\n",
    "docker push ismekhoa/my-custom-app"
   ]
  }
 ],
 "metadata": {
  "language_info": {
   "name": "python"
  }
 },
 "nbformat": 4,
 "nbformat_minor": 5
}
