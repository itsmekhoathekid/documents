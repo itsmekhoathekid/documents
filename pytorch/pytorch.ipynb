{
 "cells": [
  {
   "cell_type": "code",
   "execution_count": 1,
   "id": "63811774",
   "metadata": {},
   "outputs": [],
   "source": [
    "import torch"
   ]
  },
  {
   "cell_type": "code",
   "execution_count": 2,
   "id": "a4d106ff",
   "metadata": {},
   "outputs": [
    {
     "name": "stdout",
     "output_type": "stream",
     "text": [
      "tensor([[1., 2., 3.],\n",
      "        [4., 5., 6.]], device='cuda:0', grad_fn=<ToCopyBackward0>)\n",
      "torch.float32\n",
      "cuda:0\n",
      "torch.Size([2, 3])\n",
      "True\n"
     ]
    }
   ],
   "source": [
    "device = \"cuda\" if torch.cuda.is_available() else \"cpu\"\n",
    "my_tensor = torch.tensor([ [1, 2, 3], \n",
    "                            [4, 5, 6]], dtype=torch.float32, requires_grad=True).to(device)\n",
    "print(my_tensor)\n",
    "print(my_tensor.dtype)\n",
    "print(my_tensor.device)\n",
    "print(my_tensor.shape) # 2 rows, 3 columns\n",
    "print(my_tensor.requires_grad) # True"
   ]
  },
  {
   "cell_type": "markdown",
   "id": "08c90212",
   "metadata": {},
   "source": [
    "## Other common Iniializiation methods"
   ]
  },
  {
   "cell_type": "code",
   "execution_count": 3,
   "id": "aeb7cd1e",
   "metadata": {},
   "outputs": [
    {
     "name": "stdout",
     "output_type": "stream",
     "text": [
      "tensor([[ 0.0000e+00,  0.0000e+00,  4.9500e-35],\n",
      "        [ 3.0774e-41, -2.1119e-12,  3.0773e-41],\n",
      "        [-1.5449e+22,  4.5605e-41,  1.4013e-45]])\n"
     ]
    },
    {
     "data": {
      "text/plain": [
       "tensor([[1., 0., 0.],\n",
       "        [0., 1., 0.],\n",
       "        [0., 0., 1.]])"
      ]
     },
     "execution_count": 3,
     "metadata": {},
     "output_type": "execute_result"
    }
   ],
   "source": [
    "x = torch.empty(size = (3,3) )\n",
    "print(x)\n",
    "x = torch.zeros((3,3))\n",
    "x = torch.randn((3,3))\n",
    "x = torch.ones((3,3))\n",
    "x = torch.eye(5,5 ) # identity matrix\n",
    "x = torch.arange(start = 0, end = 10, step = 2) # [0, 2, 4, 6, 8]\n",
    "x = torch.linspace(start = 0, end = 10, steps = 8)\n",
    "x = torch.empty(size = (1,5)).normal_(mean = 0, std = 1) # normal distribution\n",
    "x = torch.empty(size = (1,5)).uniform_(0, 1) # uniform distribution\n",
    "x = torch.diag(torch.ones(3)) # torch eye (3,3)\n",
    "x"
   ]
  },
  {
   "cell_type": "markdown",
   "id": "e25d13ee",
   "metadata": {},
   "source": [
    "## How to initiliaze and conver tensors to other types (int, float, double)"
   ]
  },
  {
   "cell_type": "code",
   "execution_count": 4,
   "id": "4c643227",
   "metadata": {},
   "outputs": [
    {
     "name": "stdout",
     "output_type": "stream",
     "text": [
      "tensor([False,  True,  True,  True])\n",
      "tensor([0, 1, 2, 3], dtype=torch.int16)\n",
      "tensor([0, 1, 2, 3])\n",
      "tensor([0., 1., 2., 3.], dtype=torch.float16)\n",
      "tensor([0., 1., 2., 3.])\n",
      "tensor([0., 1., 2., 3.], dtype=torch.float64)\n"
     ]
    }
   ],
   "source": [
    "tensor = torch.arange(4)\n",
    "print(tensor.bool())\n",
    "print(tensor.short()) # int 16\n",
    "print(tensor.long()) # int 64\n",
    "print(tensor.half()) # float 16\n",
    "print(tensor.float()) # float 32\n",
    "print(tensor.double()) # float 64\n",
    "\n"
   ]
  },
  {
   "cell_type": "code",
   "execution_count": 5,
   "id": "5af5baed",
   "metadata": {},
   "outputs": [
    {
     "name": "stdout",
     "output_type": "stream",
     "text": [
      "tensor([[1, 2, 3],\n",
      "        [4, 5, 6]])\n",
      "[[1 2 3]\n",
      " [4 5 6]]\n"
     ]
    }
   ],
   "source": [
    "import numpy as np\n",
    "np_array = np.array([[1, 2, 3], [4, 5, 6]])\n",
    "tensor = torch.from_numpy(np_array)\n",
    "print(tensor)\n",
    "numpy_array = tensor.numpy()\n",
    "print(numpy_array)"
   ]
  },
  {
   "cell_type": "markdown",
   "id": "ba892941",
   "metadata": {},
   "source": [
    "## Tensor math"
   ]
  },
  {
   "cell_type": "code",
   "execution_count": 6,
   "id": "c59af038",
   "metadata": {},
   "outputs": [
    {
     "name": "stdout",
     "output_type": "stream",
     "text": [
      "tensor([5, 7, 9])\n",
      "tensor([0.2500, 0.4000, 0.5000])\n"
     ]
    },
    {
     "data": {
      "text/plain": [
       "tensor([False, False, False])"
      ]
     },
     "execution_count": 6,
     "metadata": {},
     "output_type": "execute_result"
    }
   ],
   "source": [
    "x = torch.tensor([1, 2 , 3])\n",
    "y = torch.tensor([4, 5, 6])\n",
    "z = x + y\n",
    "print(z)\n",
    "\n",
    "# division\n",
    "\n",
    "z = torch.true_divide(x, y) # element-wise division\n",
    "print(z)\n",
    "\n",
    "# inplace operations\n",
    "\n",
    "t = torch.zeros(3)\n",
    "t.add_(x) # t += x\n",
    "\n",
    "# exponentiation\n",
    "\n",
    "z = x**2\n",
    "\n",
    "# simple comparison\n",
    "z = x > 0\n",
    "z = x < 0\n",
    "z"
   ]
  },
  {
   "cell_type": "code",
   "execution_count": 7,
   "id": "047a48d6",
   "metadata": {},
   "outputs": [
    {
     "name": "stdout",
     "output_type": "stream",
     "text": [
      "tensor([[1.6814, 1.0994, 1.2684],\n",
      "        [1.8874, 1.1306, 1.5317]])\n",
      "tensor([[1.6814, 1.0994, 1.2684],\n",
      "        [1.8874, 1.1306, 1.5317]])\n",
      "tensor([[1.6814, 1.0994, 1.2684],\n",
      "        [1.8874, 1.1306, 1.5317]])\n",
      "tensor([[1.8366, 1.7966, 0.8261, 1.2825, 0.7187],\n",
      "        [0.9007, 1.5504, 0.8237, 0.9820, 0.8323],\n",
      "        [0.6696, 0.5585, 0.4160, 0.4164, 0.2430],\n",
      "        [1.4483, 1.4025, 0.6283, 1.2920, 0.6069],\n",
      "        [1.4893, 1.2789, 0.6953, 1.1399, 0.6409]])\n",
      "tensor([ 4, 10, 18])\n",
      "tensor(32)\n"
     ]
    }
   ],
   "source": [
    "# matrix multiplication\n",
    "\n",
    "x1 = torch.rand((2,5))\n",
    "x2 = torch.rand((5,3))\n",
    "z = torch.matmul(x1, x2) # 2, 3\n",
    "print(z)\n",
    "print(x1 @ x2) # matmul\n",
    "z = x1.mm(x2) # 2, 3\n",
    "print(z)\n",
    "\n",
    "# matrix exponentiation\n",
    "\n",
    "matrix_exp = torch.rand(5,5)\n",
    "print(matrix_exp.matrix_power(2)) # square the matrix\n",
    "\n",
    "# element wise mult\n",
    "\n",
    "z  = x * y\n",
    "print(z)\n",
    "\n",
    "z = torch.dot(x, y) # dot product\n",
    "print(z)\n"
   ]
  },
  {
   "cell_type": "code",
   "execution_count": 8,
   "id": "5ece2d6d",
   "metadata": {},
   "outputs": [
    {
     "name": "stdout",
     "output_type": "stream",
     "text": [
      "torch.Size([32, 10, 30])\n"
     ]
    }
   ],
   "source": [
    "# batch matrix multiplication\n",
    "\n",
    "batch = 32\n",
    "n = 10\n",
    "m = 20\n",
    "p = 30\n",
    "\n",
    "tensor1 = torch.rand((batch, n, m)) # (32, 10, 20)\n",
    "\n",
    "tensor2 = torch.rand((batch, m, p)) # (32, 20, 30)\n",
    "\n",
    "out_bmm = torch.bmm(tensor1, tensor2) # batch matrix multiplication\n",
    "print(out_bmm.shape) # (32, 10, 30)"
   ]
  },
  {
   "cell_type": "code",
   "execution_count": 9,
   "id": "641903d5",
   "metadata": {},
   "outputs": [
    {
     "name": "stdout",
     "output_type": "stream",
     "text": [
      "tensor([[0.8262, 0.9599, 0.9572, 0.5381, 0.8701],\n",
      "        [0.8381, 0.8423, 0.3500, 0.6770, 0.8101],\n",
      "        [0.8328, 0.8893, 0.8611, 0.6633, 0.5362],\n",
      "        [0.7733, 0.9493, 0.5371, 0.8064, 0.9964],\n",
      "        [0.9139, 0.9546, 0.7428, 0.4817, 0.7819]])\n",
      "tensor([[0.0538, 0.0622, 0.5106, 0.0439, 0.2700],\n",
      "        [0.0586, 0.0158, 0.0827, 0.0911, 0.2245],\n",
      "        [0.0565, 0.0280, 0.4217, 0.0854, 0.0773],\n",
      "        [0.0363, 0.0554, 0.1795, 0.1588, 0.3833],\n",
      "        [0.0982, 0.0587, 0.3227, 0.0309, 0.2048]])\n"
     ]
    }
   ],
   "source": [
    "# example of broadcasting\n",
    "\n",
    "x1 = torch.rand((5, 5))\n",
    "x2 = torch.rand((1,5 ))\n",
    "\n",
    "z = x1 - x2 \n",
    "z = x1 ** x2\n",
    "print(z)\n",
    "z = x1 * x2\n",
    "print(z)  \n"
   ]
  },
  {
   "cell_type": "code",
   "execution_count": null,
   "id": "da0934f8",
   "metadata": {},
   "outputs": [
    {
     "name": "stdout",
     "output_type": "stream",
     "text": [
      "tensor(6)\n",
      "tensor(True)\n",
      "tensor(False)\n"
     ]
    }
   ],
   "source": [
    "# Other Useful tensor operations\n",
    "\n",
    "sum_x = torch.sum(x, dim = 0)\n",
    "print(sum_x) # sum along the first dimension (columns)\n",
    "values, indices = torch.max(x, dim = 0)\n",
    "values, indices = torch.min(x, dim = 0)\n",
    "abs_x = torch.abs(x)\n",
    "z = torch.argmax(x, dim = 0) # index of max value along the first dimension\n",
    "z = torch.argmin(x, dim = 0) # index of min value along the first dimension\n",
    "mean_x = torch.mean(x.float() , dim = 0)\n",
    "z = torch.eq(x, y) # element-wise equality check \n",
    "sorted_y, indices = torch.sort(y, dim =0 ,descending = False)\n",
    "\n",
    "z = torch.clamp(x , min = 0, max = 10) # clamp values to be >= 0, <= 10\n",
    "\n",
    "x = torch.tensor([1, 0 , 1, 1, 1], dtype = torch.bool)\n",
    "z = torch.any(x) \n",
    "print(z)\n",
    "z = torch.all(x) \n",
    "print(z)\n",
    "\n",
    "\n"
   ]
  },
  {
   "cell_type": "markdown",
   "id": "0cf574d7",
   "metadata": {},
   "source": [
    "## Tensor indexing"
   ]
  },
  {
   "cell_type": "code",
   "execution_count": null,
   "id": "e64d7716",
   "metadata": {},
   "outputs": [
    {
     "name": "stdout",
     "output_type": "stream",
     "text": [
      "torch.Size([25])\n",
      "torch.Size([10])\n",
      "tensor([0.7659, 0.6183, 0.0933, 0.6953, 0.9840, 0.7913, 0.1829, 0.6688, 0.6264,\n",
      "        0.6282])\n",
      "tensor([2, 5, 8])\n",
      "tensor([[0.2372, 0.6838, 0.1223, 0.9515, 0.6496],\n",
      "        [0.5821, 0.3096, 0.9567, 0.3157, 0.2213],\n",
      "        [0.2065, 0.3886, 0.9969, 0.9913, 0.8121]])\n",
      "tensor([0.2213, 0.2372])\n"
     ]
    }
   ],
   "source": [
    "batch_size = 10\n",
    "features = 25\n",
    "x = torch.rand((batch_size, features))\n",
    "\n",
    "print(x[0].shape) # first row x[0,:]\n",
    "\n",
    "print(x[:, 0].shape)\n",
    "\n",
    "print(x[2, 0: 10]) # first 10 elements of the 3rd row\n",
    "x[0, 0] = 100\n",
    "\n",
    "# Fancy indexing\n",
    "\n",
    "x = torch.arange(10)\n",
    "indices = [2, 5, 8]\n",
    "print(x[indices]) # get elements at indices 2, 5, 8\n",
    "\n",
    "x = torch.rand((3,5))\n",
    "print(x)\n",
    "rows = torch.tensor([1, 0])\n",
    "cols = torch.tensor([4, 0])\n",
    "print(x[rows, cols]) # get elements at (1,4) and (0,0)\n",
    "\n"
   ]
  },
  {
   "cell_type": "code",
   "execution_count": null,
   "id": "594d86e0",
   "metadata": {},
   "outputs": [
    {
     "name": "stdout",
     "output_type": "stream",
     "text": [
      "tensor([0, 1, 8, 9])\n",
      "tensor([0, 2, 4, 6, 8])\n",
      "tensor([2, 3, 4, 5, 6, 7, 6, 7, 8, 9])\n",
      "tensor([0, 1, 2, 3, 4])\n",
      "1\n",
      "10\n"
     ]
    }
   ],
   "source": [
    "# Advanced indexing\n",
    "\n",
    "x = torch.arange(10)\n",
    "print(x[(x < 2) | (x > 7)]) # get elements less than 2 or greater than 7 (& )\n",
    "print(x[x.remainder(2) == 0]) # get even numbers\n",
    "\n",
    "# useful operations\n",
    "\n",
    "print(torch.where(x > 5, x, x + 2)) # replace elements > 5 with 0\n",
    "print(torch.tensor([0, 0, 1, 2,2, 3,4]).unique())\n",
    "print(x.dim()) # number of dimensions \n",
    "print(x.numel()) # number of elements\n"
   ]
  },
  {
   "cell_type": "markdown",
   "id": "6fcdc74e",
   "metadata": {},
   "source": [
    "## Reshaping\n"
   ]
  },
  {
   "cell_type": "code",
   "execution_count": null,
   "id": "a566180d",
   "metadata": {},
   "outputs": [
    {
     "name": "stdout",
     "output_type": "stream",
     "text": [
      "tensor([[0, 1, 2],\n",
      "        [3, 4, 5],\n",
      "        [6, 7, 8]])\n",
      "tensor([0, 3, 6, 1, 4, 7, 2, 5, 8])\n",
      "torch.Size([4, 5])\n",
      "torch.Size([2, 10])\n",
      "torch.Size([10])\n",
      "torch.Size([64, 10])\n",
      "torch.Size([64, 5, 2])\n",
      "torch.Size([1, 10])\n",
      "torch.Size([10, 1])\n",
      "torch.Size([1, 10])\n"
     ]
    }
   ],
   "source": [
    "import torch\n",
    "\n",
    "# contiguous tensors\n",
    "\n",
    "x = torch.arange(9)\n",
    "x_3x3= x.view(3,3)\n",
    "print(x_3x3) # view as 3x3 matrix\n",
    "x_3x3 = x.reshape(3,3) # reshape to 3x3\n",
    "\n",
    "# view and reshape are similar, but view requires the tensor to be contiguous in memory\n",
    "\n",
    "y = x_3x3.t()\n",
    "print(y.contiguous().view(9))\n",
    "\n",
    "\n",
    "x1 = torch.rand((2, 5))\n",
    "x2 = torch.rand((2, 5))\n",
    "print(torch.cat((x1, x2), dim=0).shape) # concatenate along the first dimension (rows)\n",
    "print(torch.cat((x1, x2), dim=1).shape) # concatenate along the second dimension (columns)\n",
    "\n",
    "z = x1.view(-1)\n",
    "print(z.shape) \n",
    "\n",
    "\n",
    "batch = 64\n",
    "x = torch.rand((batch, 2 , 5))\n",
    "z = x.view(batch, -1)\n",
    "print(z.shape) # (64, 10)\n",
    "\n",
    "z = x.permute(0, 2, 1)\n",
    "print(z.shape) # (64, 5, 2) # permute dimensions\n",
    "\n",
    "x = torch.arange(10)\n",
    "print(x.unsqueeze(0).shape) # add a new dimension at the beginning (1, 10)\n",
    "print(x.unsqueeze(1).shape) # add a new dimension at index 1 (64, 1, 2, 5)\n",
    "\n",
    "x = torch.arange(10).unsqueeze(0).unsqueeze(1)\n",
    "print(x.squeeze(0).shape)\n",
    "\n",
    "## expand\n",
    "\n"
   ]
  }
 ],
 "metadata": {
  "kernelspec": {
   "display_name": ".venv",
   "language": "python",
   "name": "python3"
  },
  "language_info": {
   "codemirror_mode": {
    "name": "ipython",
    "version": 3
   },
   "file_extension": ".py",
   "mimetype": "text/x-python",
   "name": "python",
   "nbconvert_exporter": "python",
   "pygments_lexer": "ipython3",
   "version": "3.10.12"
  }
 },
 "nbformat": 4,
 "nbformat_minor": 5
}
